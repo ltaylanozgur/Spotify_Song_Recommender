{
 "cells": [
  {
   "cell_type": "code",
   "execution_count": null,
   "id": "54fea5bf",
   "metadata": {},
   "outputs": [],
   "source": [
    "import pandas as pd\n",
    "import numpy as np\n",
    "\n",
    "import matplotlib.pyplot as plt\n",
    "\n",
    "from sklearn import cluster, datasets\n",
    "from sklearn.preprocessing import StandardScaler\n",
    "\n",
    "from matplotlib.lines import Line2D\n",
    "import matplotlib.pyplot as plt\n",
    "\n",
    "from bs4 import BeautifulSoup\n",
    "\n",
    "import requests\n",
    "\n",
    "import spotipy\n",
    "from spotipy.oauth2 import SpotifyClientCredentials\n",
    "\n",
    "from sklearn.cluster import KMeans\n",
    "import pickle\n",
    "import random\n",
    "from random import randint\n",
    "\n",
    "pd.set_option('display.max_columns', 165)\n",
    "pd.set_option('display.max_rows', 165)"
   ]
  },
  {
   "cell_type": "code",
   "execution_count": null,
   "id": "0f0dc3d6",
   "metadata": {
    "id": "P6Z1QB7eeJeq"
   },
   "outputs": [],
   "source": [
    "secrets_file = open(\"secrets.txt\",\"r\")"
   ]
  },
  {
   "cell_type": "code",
   "execution_count": null,
   "id": "753da44f",
   "metadata": {
    "id": "O_zvc84bnbh2"
   },
   "outputs": [],
   "source": [
    "string = secrets_file.read()"
   ]
  },
  {
   "cell_type": "code",
   "execution_count": null,
   "id": "b7fc024a",
   "metadata": {
    "id": "qE_-56J0ak4B",
    "scrolled": true
   },
   "outputs": [],
   "source": [
    "string"
   ]
  },
  {
   "cell_type": "code",
   "execution_count": null,
   "id": "8a0eef6e",
   "metadata": {
    "id": "kXwHdEdLndJZ",
    "scrolled": true
   },
   "outputs": [],
   "source": [
    "string.split('\\n')"
   ]
  },
  {
   "cell_type": "code",
   "execution_count": null,
   "id": "c933112e",
   "metadata": {
    "id": "gZmYnRSNngr7"
   },
   "outputs": [],
   "source": [
    "secrets_dict={}\n",
    "for line in string.split('\\n'):\n",
    "    if len(line) > 0:\n",
    "        print(line.split(': '))\n",
    "        secrets_dict[line.split(':')[0]]=line.split(':')[1].strip()"
   ]
  },
  {
   "cell_type": "code",
   "execution_count": null,
   "id": "bc4e37a0",
   "metadata": {
    "id": "5iV66R_RnhXR",
    "scrolled": true
   },
   "outputs": [],
   "source": [
    "secrets_dict"
   ]
  },
  {
   "cell_type": "code",
   "execution_count": null,
   "id": "9d08f853",
   "metadata": {
    "id": "HkTY3iTCnYdC"
   },
   "outputs": [],
   "source": [
    "import spotipy\n",
    "from spotipy.oauth2 import SpotifyClientCredentials\n",
    "\n",
    "#Initialize SpotiPy with user credentials\n",
    "sp = spotipy.Spotify(auth_manager=SpotifyClientCredentials(client_id=secrets_dict['cid'],\n",
    "                                                           client_secret=secrets_dict['csecret']))"
   ]
  },
  {
   "cell_type": "markdown",
   "id": "c95f6cbe",
   "metadata": {},
   "source": [
    "songs_df and playlist_df_all were previously created in API Wrappers Lab. Then, csv files were produced. In this lab, the csv files are read."
   ]
  },
  {
   "cell_type": "code",
   "execution_count": null,
   "id": "5d13d392",
   "metadata": {
    "scrolled": true
   },
   "outputs": [],
   "source": [
    "songs_df = pd.read_csv('songs_df.csv')\n",
    "songs_df"
   ]
  },
  {
   "cell_type": "code",
   "execution_count": null,
   "id": "877aa353",
   "metadata": {},
   "outputs": [],
   "source": [
    "def nap():\n",
    "    sleep(randint(1,3))\n",
    "    return None"
   ]
  },
  {
   "cell_type": "code",
   "execution_count": null,
   "id": "942ca1c0",
   "metadata": {},
   "outputs": [],
   "source": [
    "favorite_song = input('Please enter your favorite song: ')"
   ]
  },
  {
   "cell_type": "code",
   "execution_count": null,
   "id": "2112bd3f",
   "metadata": {},
   "outputs": [],
   "source": [
    "# Function to obtain an uri from a song name\n",
    "def song_uri(favorite_song):\n",
    "    try:\n",
    "        # Creating the spotipy element for the playlist URI\n",
    "        querry = 'track:'+str(favorite_song)\n",
    "        track = sp.search(q=favorite_song, limit=1)\n",
    "        return track['tracks']['items'][0]['uri'].split('spotify:track:')[1]                 \n",
    "    except:\n",
    "        return 'Null'"
   ]
  },
  {
   "cell_type": "code",
   "execution_count": null,
   "id": "3085a4e9",
   "metadata": {},
   "outputs": [],
   "source": [
    "lst = []\n",
    "for i in songs_df['song']:\n",
    "    lst.append(song_uri(i))\n",
    "    print(i, 'done')"
   ]
  },
  {
   "cell_type": "code",
   "execution_count": null,
   "id": "89fac16d",
   "metadata": {},
   "outputs": [],
   "source": [
    "songs_df['uri'] = lst\n",
    "print(songs_df.shape)\n",
    "songs_df = songs_df[songs_df['uri'] != 'Null']\n",
    "print(songs_df.shape)\n",
    "\n",
    "songs_df.to_csv('songs_df_uri.csv')"
   ]
  },
  {
   "cell_type": "code",
   "execution_count": null,
   "id": "957d37e9",
   "metadata": {},
   "outputs": [],
   "source": [
    "songs_df"
   ]
  }
 ],
 "metadata": {
  "kernelspec": {
   "display_name": "Python 3 (ipykernel)",
   "language": "python",
   "name": "python3"
  },
  "language_info": {
   "codemirror_mode": {
    "name": "ipython",
    "version": 3
   },
   "file_extension": ".py",
   "mimetype": "text/x-python",
   "name": "python",
   "nbconvert_exporter": "python",
   "pygments_lexer": "ipython3",
   "version": "3.9.12"
  },
  "toc": {
   "base_numbering": 1,
   "nav_menu": {},
   "number_sections": true,
   "sideBar": true,
   "skip_h1_title": false,
   "title_cell": "Table of Contents",
   "title_sidebar": "Contents",
   "toc_cell": false,
   "toc_position": {},
   "toc_section_display": true,
   "toc_window_display": false
  }
 },
 "nbformat": 4,
 "nbformat_minor": 5
}
